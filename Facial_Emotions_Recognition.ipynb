{
  "nbformat": 4,
  "nbformat_minor": 0,
  "metadata": {
    "colab": {
      "name": "Facial Emotions Recognition.ipynb",
      "provenance": [],
      "private_outputs": true
    },
    "kernelspec": {
      "name": "python3",
      "display_name": "Python 3"
    },
    "accelerator": "GPU"
  },
  "cells": [
    {
      "cell_type": "markdown",
      "metadata": {
        "id": "sXXaLPKSKmRz",
        "colab_type": "text"
      },
      "source": [
        "Importing the Data from **GitHub**"
      ]
    },
    {
      "cell_type": "code",
      "metadata": {
        "id": "XDxmnKMRsSxU",
        "colab_type": "code",
        "colab": {}
      },
      "source": [
        "!git clone https://github.com/muxspace/facial_expressions.git"
      ],
      "execution_count": null,
      "outputs": []
    },
    {
      "cell_type": "code",
      "metadata": {
        "id": "-M5JCw0ZtQHE",
        "colab_type": "code",
        "colab": {}
      },
      "source": [
        "import csv\n",
        "d={}\n",
        "file = open('/content/facial_expressions/data/legend.csv')\n",
        "filedata = csv.reader(file)"
      ],
      "execution_count": null,
      "outputs": []
    },
    {
      "cell_type": "code",
      "metadata": {
        "id": "IVb-iQqqtd-l",
        "colab_type": "code",
        "colab": {}
      },
      "source": [
        "for row in filedata:\n",
        "  key = row[2].lower()\n",
        "  value = row[1]\n",
        "  if key in d:\n",
        "    d[key].append(value)\n",
        "  else:\n",
        "    d[key]=[]\n",
        "    d[key].append(value)\n"
      ],
      "execution_count": null,
      "outputs": []
    },
    {
      "cell_type": "code",
      "metadata": {
        "id": "6xNxl5Bt4_oE",
        "colab_type": "code",
        "colab": {}
      },
      "source": [
        "#Deleting the column headers.\n",
        "del d['emotion']"
      ],
      "execution_count": null,
      "outputs": []
    },
    {
      "cell_type": "code",
      "metadata": {
        "id": "20mFwHW9tRAh",
        "colab_type": "code",
        "colab": {}
      },
      "source": [
        "emotion_list = list(d.keys())\n",
        "emotion_list"
      ],
      "execution_count": null,
      "outputs": []
    },
    {
      "cell_type": "markdown",
      "metadata": {
        "id": "OktmN5FSKdI4",
        "colab_type": "text"
      },
      "source": [
        "Preparing the data and making the **Directories**"
      ]
    },
    {
      "cell_type": "code",
      "metadata": {
        "id": "e-W0YxZawQNi",
        "colab_type": "code",
        "colab": {}
      },
      "source": [
        "\n",
        "#Making the masterdata folder which contains training&testing sub directories.\n",
        "import os\n",
        "\n",
        "os.mkdir('master_data')\n",
        "os.mkdir('master_data/training_data')\n",
        "os.mkdir('master_data/testing_data')"
      ],
      "execution_count": null,
      "outputs": []
    },
    {
      "cell_type": "code",
      "metadata": {
        "id": "yLort6bN7cAQ",
        "colab_type": "code",
        "colab": {}
      },
      "source": [
        "#Copying the all 8 categories into training&testing folders of master_data.\n",
        "for emotion in emotion_list:\n",
        "  os.mkdir(os.path.join('master_data/training_data/', emotion))\n",
        "  os.mkdir(os.path.join('master_data/testing_data/', emotion))"
      ],
      "execution_count": null,
      "outputs": []
    },
    {
      "cell_type": "code",
      "metadata": {
        "id": "RGXC2R8s9h6N",
        "colab_type": "code",
        "colab": {}
      },
      "source": [
        "#Now copying the images from images_directory into the master_data training&testing folders\n",
        "from shutil import copyfile\n",
        "split_size=0.8\n",
        "for emotions, images in d.items():\n",
        "  train_size = int(split_size*len(images))\n",
        "  train_images = images[0:train_size]\n",
        "  test_images = images[train_size:]\n",
        "\n",
        "  #Now copying these images.\n",
        "  for each_image in train_images:\n",
        "    source = os.path.join('/content/facial_expressions/images', each_image)\n",
        "    dest = os.path.join('/content/master_data/training_data', emotion, each_image)\n",
        "    copyfile(source, dest)\n",
        "\n",
        "  for each_image in test_images:\n",
        "    source = os.path.join('/content/facial_expressions/images', each_image)\n",
        "    dest = os.path.join('/content/master_data/testing_data', emotion, each_image)\n",
        "    copyfile(source, dest)"
      ],
      "execution_count": null,
      "outputs": []
    },
    {
      "cell_type": "code",
      "metadata": {
        "id": "CFEbwxyP_1WF",
        "colab_type": "code",
        "colab": {}
      },
      "source": [
        ""
      ],
      "execution_count": null,
      "outputs": []
    },
    {
      "cell_type": "markdown",
      "metadata": {
        "id": "3IpvxXpMKPyk",
        "colab_type": "text"
      },
      "source": [
        "Now Using the ImageDataGenerator from Keras.\n"
      ]
    },
    {
      "cell_type": "code",
      "metadata": {
        "id": "KSRl4t3dDx9b",
        "colab_type": "code",
        "colab": {}
      },
      "source": [
        "import tensorflow as tf\n",
        "import keras\n",
        "from keras.models import Sequential\n",
        "from keras.layers import Dense, Activation, Conv2D, MaxPooling2D, Flatten\n",
        "from keras.optimizers import Adam\n",
        "from keras.preprocessing.image import ImageDataGenerator\n",
        "from keras.callbacks import EarlyStopping"
      ],
      "execution_count": null,
      "outputs": []
    },
    {
      "cell_type": "code",
      "metadata": {
        "id": "cS8Ay9iIFTpD",
        "colab_type": "code",
        "colab": {}
      },
      "source": [
        "model = Sequential()"
      ],
      "execution_count": null,
      "outputs": []
    },
    {
      "cell_type": "code",
      "metadata": {
        "id": "CkHQI45nFepV",
        "colab_type": "code",
        "colab": {}
      },
      "source": [
        "model.add(Conv2D(16, (3,3), activation='relu', input_shape=(100,100,3)))\n",
        "model.add(MaxPooling2D((2,2)))\n",
        "model.add(Conv2D(32, (3,3), activation='relu'))\n",
        "model.add(MaxPooling2D((2,2)))\n",
        "model.add(Conv2D(64, (3,3), activation='relu'))\n",
        "model.add(MaxPooling2D((2,2)))\n",
        "model.add(Flatten())\n",
        "model.add(Dense(1024, activation='relu'))\n",
        "model.add(Dense(8, activation='softmax'))"
      ],
      "execution_count": null,
      "outputs": []
    },
    {
      "cell_type": "code",
      "metadata": {
        "id": "Td656F7lG5VJ",
        "colab_type": "code",
        "colab": {}
      },
      "source": [
        "model.compile(optimizer=Adam(learning_rate=0.01), loss='categorical_crossentropy', metrics=['accuracy'])\n",
        "model.summary()"
      ],
      "execution_count": null,
      "outputs": []
    },
    {
      "cell_type": "markdown",
      "metadata": {
        "id": "AI8F676CK8It",
        "colab_type": "text"
      },
      "source": [
        "Finally Providing the Images to our Model"
      ]
    },
    {
      "cell_type": "code",
      "metadata": {
        "id": "3N454Is7LHeZ",
        "colab_type": "code",
        "colab": {}
      },
      "source": [
        "train_dir = '/content/master_data/training_data'\n",
        "testing_dir = '/content/master_data/testing_data'\n",
        "\n",
        "train_datagen = ImageDataGenerator(rescale=1.0/255)\n",
        "train_gen = train_datagen.flow_from_directory(train_dir, target_size=(100,100), class_mode='categorical', batch_size=64)\n",
        "\n",
        "test_datagen = ImageDataGenerator(rescale=1.0/255)\n",
        "test_gen = test_datagen.flow_from_directory(testing_dir, target_size=(100,100), class_mode='categorical', batch_size=64)"
      ],
      "execution_count": null,
      "outputs": []
    },
    {
      "cell_type": "code",
      "metadata": {
        "id": "BPIYXwnOOqgZ",
        "colab_type": "code",
        "colab": {}
      },
      "source": [
        "es = EarlyStopping(monitor='val_acc', patience=5, min_delta=0.05)"
      ],
      "execution_count": null,
      "outputs": []
    },
    {
      "cell_type": "code",
      "metadata": {
        "id": "ZOeioHMVO2ew",
        "colab_type": "code",
        "colab": {}
      },
      "source": [
        "model.fit_generator(train_gen, epochs=10, validation_data=test_gen, verbose=1, callbacks=[es])"
      ],
      "execution_count": null,
      "outputs": []
    },
    {
      "cell_type": "code",
      "metadata": {
        "id": "p7utySHOTI7H",
        "colab_type": "code",
        "colab": {}
      },
      "source": [
        ""
      ],
      "execution_count": null,
      "outputs": []
    }
  ]
}